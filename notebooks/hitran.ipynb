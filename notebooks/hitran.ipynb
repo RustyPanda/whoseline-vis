{
 "cells": [
  {
   "cell_type": "markdown",
   "metadata": {
    "deletable": true,
    "editable": true
   },
   "source": [
    "Read HITRAN line list and molecular ID key, and put them into a simplified file with colums: \n",
    "* Wavelength [Ang]\n",
    "* Species\n",
    "* Einstein A coeff [s^-1]"
   ]
  },
  {
   "cell_type": "code",
   "execution_count": 4,
   "metadata": {
    "collapsed": true,
    "deletable": true,
    "editable": true
   },
   "outputs": [],
   "source": [
    "%matplotlib inline\n",
    "import numpy as np\n",
    "import matplotlib.pyplot as plt\n",
    "from astropy.io import ascii\n",
    "import astropy.units as u"
   ]
  },
  {
   "cell_type": "code",
   "execution_count": 145,
   "metadata": {
    "collapsed": true,
    "deletable": true,
    "editable": true
   },
   "outputs": [],
   "source": [
    "hitran_raw_path = '/Users/bmmorris/Desktop/whoseline/hitran/custom/5a0c0d48.out.txt'\n",
    "molecule_key_path = '/Users/bmmorris/Desktop/whoseline/hitran/key.txt'\n",
    "simplified_output_path = '../data/hitran_simplified.txt'\n",
    "delimiter = ' '\n",
    "wavelength_column = 3\n",
    "strength_column = 4\n",
    "einstein_column = 5\n",
    "molecular_index_column = 0\n",
    "\n",
    "hitran = np.genfromtxt(hitran_raw_path, autostrip=True)"
   ]
  },
  {
   "cell_type": "code",
   "execution_count": 140,
   "metadata": {
    "collapsed": false,
    "deletable": true,
    "editable": true
   },
   "outputs": [],
   "source": [
    "molecule_key = ascii.read(molecule_key_path, \n",
    "                          delimiter='\\t', format='no_header')\n",
    "\n",
    "molecules = {i: j for i, j in zip(molecule_key['col1'], molecule_key['col2'])}\n",
    "\n",
    "molecule_labels = list(map(lambda x: molecules[x], hitran[:, molecular_index_column]))"
   ]
  },
  {
   "cell_type": "code",
   "execution_count": 146,
   "metadata": {
    "collapsed": false,
    "deletable": true,
    "editable": true
   },
   "outputs": [],
   "source": [
    "def wavenumber_to_wavelength(wn):\n",
    "    \"\"\"\n",
    "    Convert wavenumber in cm^-1 to wavelength in Angstrom\n",
    "    \"\"\"\n",
    "    return (u.cm/wn).to(u.Angstrom)\n",
    "\n",
    "wavelength = wavenumber_to_wavelength(hitran[:, wavelength_column]).value\n",
    "strengths = hitran[:, einstein_column]\n",
    "\n",
    "with open(simplified_output_path, 'w') as w:\n",
    "    for i, j, k in zip(wavelength, np.array(molecule_labels), strengths):\n",
    "        w.write(delimiter.join(map(str, [i, j, k])) + '\\n')"
   ]
  },
  {
   "cell_type": "code",
   "execution_count": null,
   "metadata": {
    "collapsed": true,
    "deletable": true,
    "editable": true
   },
   "outputs": [],
   "source": []
  }
 ],
 "metadata": {
  "kernelspec": {
   "display_name": "Python 3",
   "language": "python",
   "name": "python3"
  },
  "language_info": {
   "codemirror_mode": {
    "name": "ipython",
    "version": 3
   },
   "file_extension": ".py",
   "mimetype": "text/x-python",
   "name": "python",
   "nbconvert_exporter": "python",
   "pygments_lexer": "ipython3",
   "version": "3.5.4"
  }
 },
 "nbformat": 4,
 "nbformat_minor": 0
}
